{
 "cells": [
  {
   "cell_type": "markdown",
   "id": "4a389436",
   "metadata": {},
   "source": [
    "# Quasiconvex functions\n",
    "\n",
    "$f:X\\rightarrow\\mathbb{R}$ is *quasiconvex* if $dom(f)$ is convex and all sublevel sets are convex, i.e., for each value $\\alpha\\in\\mathbb{R}$, the set\n",
    "$$S_{\\alpha}=\\{x\\mid f(x)\\le \\alpha\\}$$\n",
    "is convex.\n",
    "\n",
    "$f$ is *quasiconcave* if $-f$ is quasiconvex. If $f$ is both quasiconvex and quasiconcave, then we call $f$ *quasilinear*.\n",
    "\n",
    "Recall that a convex function has convex level sets, hence it is quasiconvex."
   ]
  },
  {
   "cell_type": "markdown",
   "id": "1bcfaafc",
   "metadata": {},
   "source": [
    "## Exercise 1\n",
    "\n",
    "Show that $f$ is quasilinear iff all its level sets are convex. (For $\\alpha\\in\\mathbb{R}$, the set\n",
    "$S_{\\alpha}=\\{x\\mid f(x)= \\alpha\\}$ is the $\\alpha$ level set.)"
   ]
  },
  {
   "cell_type": "markdown",
   "id": "a62bc625",
   "metadata": {},
   "source": [
    "## Examples\n",
    "\n",
    "- $\\log(x)$ is quasilinear (and concave!)\n",
    "- $\\lceil x \\rceil$ is quasilinear.\n",
    "- $f(x)/g(x)$ is quasiconvex for $f$ convex and $g$ concave and nonnegative."
   ]
  },
  {
   "cell_type": "markdown",
   "id": "4dfea424",
   "metadata": {},
   "source": [
    "## Exercise 2\n",
    "\n",
    "For $x\\in\\mathbb{R}^n$ define *length of $x$* as $f(x)=\\max\\{i\\mid x_i\\ne 0\\}$ for $x\\ne 0$ and $f(0)=0$. Show that $f$ is not convex but it is quasiconvex."
   ]
  },
  {
   "cell_type": "markdown",
   "id": "fea5d651",
   "metadata": {},
   "source": [
    "## Exercise 3 (quasiconvex Jensen)\n",
    "\n",
    "Prove the following.\n",
    "\n",
    "Let $dom(f)$ be convex.\n",
    "Then, $f$ is quasiconvex iff for all $x,y\\in dom(f)$ and $\\lambda\\in[0,1]$, we have\n",
    "$$f(\\lambda x+ (1-\\lambda)y) \\le \\max\\{f(x),f(y)\\}.$$\n",
    "\n",
    "Similarly, $f$ is quasiconcave iff for all $x,y\\in dom(f)$ and $\\lambda\\in[0,1]$, we have\n",
    "$$f(\\lambda x+ (1-\\lambda)y) \\ge \\min\\{f(x),f(y)\\}.$$"
   ]
  },
  {
   "cell_type": "markdown",
   "id": "9ed6bd0a",
   "metadata": {},
   "source": [
    "## Corollary\n",
    "\n",
    "For $x\\in\\mathbb{R}^n$ define $card(x)=|\\{i\\mid x_i\\ne 0\\}|$. Then $card$ is quasiconcave on $\\mathbb{R}_+^n$."
   ]
  },
  {
   "cell_type": "markdown",
   "id": "d4c46f21",
   "metadata": {},
   "source": [
    "## Programming Exercise (minimizing a quasiconvex function)\n",
    "\n",
    "A *quasiconvex problem* is minimizing a quasiconvex function over a set of convex constraints. Note that quasiconvex problems can be solved up to arbitrary precision using binary search and solving a number of convex feasibility problems.\n",
    "\n",
    "Let's say we want to find a function of the form $$f(t)=\\frac{a_0+ a_1 t + a_2 t^2 }{1+ b_1 t+ b_2 t^2}$$ which approximates $e^t$ on the set $[-3,3]$. To this end, we will find the values of the $a_i$ and $b_i$ coefficients so that they minimize $\\max_{i=1,\\ldots,k} | f(t_i)-y_i|$, where $t_i$ are evenly spaced numbers in $[-3,3]$. We will require that $1+b_1 t_i+ b_2 t_i^2 > 0$ for $i=1, \\ldots, k$.\n",
    "\n",
    "Solve the problem above using binary search (implemented by you) and ```cvxpy``` (or an LP solver of your choice).\n",
    "\n",
    "Hint: ```cvxpy.Variable(pos=True)``` creates a variable which is constrained to be positive.\n",
    "\n",
    "**Note:** cvxpy can solve a quasiconvex problem for you (also using binary search) if you call ```prob.solve(qcp=True)```. Then, your problem has to be specified as DQCP ([Disciplined Quasiconvex Programming](https://www.cvxpy.org/tutorial/dqcp/index.html)) which is not very convenient at the moment."
   ]
  },
  {
   "cell_type": "code",
   "execution_count": 8,
   "id": "ef8fd244",
   "metadata": {},
   "outputs": [],
   "source": [
    "import numpy as np\n",
    "import cvxpy as cp\n",
    "import math"
   ]
  },
  {
   "cell_type": "code",
   "execution_count": 12,
   "id": "32759277",
   "metadata": {},
   "outputs": [],
   "source": [
    "k = 201\n",
    "t = np.linspace(-3,3,k)\n",
    "y = [math.exp(x) for x in t]"
   ]
  },
  {
   "cell_type": "code",
   "execution_count": null,
   "id": "ea8c3c8b",
   "metadata": {},
   "outputs": [],
   "source": [
    "# your code goes here"
   ]
  },
  {
   "cell_type": "code",
   "execution_count": null,
   "id": "cdef7973",
   "metadata": {},
   "outputs": [],
   "source": [
    "# here you can see how close is your function\n",
    "import matplotlib.pyplot as plt\n",
    "\n",
    "y2 = [(a[0].value + a[1].value*t[i] + a[2].value*(t[i]**2))/(1+b[0].value*t[i]+b[1].value*(t[i]**2)) for i in range(len(t))]\n",
    "plt.figure(figsize=(10,6))\n",
    "plt.plot(t, y, 'g-', t, y2, 'r-', linewidth=0.5)"
   ]
  }
 ],
 "metadata": {
  "kernelspec": {
   "display_name": "Python 3 (ipykernel)",
   "language": "python",
   "name": "python3"
  },
  "language_info": {
   "codemirror_mode": {
    "name": "ipython",
    "version": 3
   },
   "file_extension": ".py",
   "mimetype": "text/x-python",
   "name": "python",
   "nbconvert_exporter": "python",
   "pygments_lexer": "ipython3",
   "version": "3.8.10"
  }
 },
 "nbformat": 4,
 "nbformat_minor": 5
}
